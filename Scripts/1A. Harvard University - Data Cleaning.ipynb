{
 "cells": [
  {
   "cell_type": "markdown",
   "metadata": {},
   "source": [
    "**SYPA: Fundamental Analysis of Foreign Direct Investment** <br>\n",
    "*1A. Harvard University - Data Cleaning* <br>\n",
    "User: Jake Schneider <br>\n",
    "Date Created: February 7, 2020 <br>\n",
    "Date Updated: February 7, 2020"
   ]
  },
  {
   "cell_type": "markdown",
   "metadata": {},
   "source": [
    "----"
   ]
  },
  {
   "cell_type": "markdown",
   "metadata": {},
   "source": [
    "**Load Packages**"
   ]
  },
  {
   "cell_type": "code",
   "execution_count": 30,
   "metadata": {},
   "outputs": [],
   "source": [
    "#Import libraries\n",
    "import sys\n",
    "import pandas as pd\n",
    "from datetime import date, datetime, time, timedelta\n",
    "import pendulum\n",
    "import json\n",
    "import requests\n",
    "import numpy as np\n",
    "import math\n",
    "\n",
    "import seaborn as sns\n",
    "import matplotlib\n",
    "import matplotlib.pyplot as plt\n",
    "%matplotlib inline\n",
    "sns.set(style='ticks', context='talk')\n",
    "\n",
    "from matplotlib.offsetbox import AnchoredText\n",
    "from sklearn import linear_model\n",
    "from sklearn.metrics import r2_score\n",
    "import statsmodels.api as sm\n",
    "#import fbprophet\n",
    "\n",
    "import warnings\n",
    "import itertools\n",
    "\n",
    "from flask import jsonify, make_response\n",
    "\n",
    "from matplotlib.backends.backend_pdf import PdfPages\n",
    "from fpdf import FPDF\n",
    "from PIL import Image, ImageDraw, ImageFont"
   ]
  },
  {
   "cell_type": "code",
   "execution_count": 3,
   "metadata": {},
   "outputs": [],
   "source": [
    "# Create function 'jprint'\n",
    "\n",
    "def jprint(obj):\n",
    "    # create a formatted string of the Python JSON object\n",
    "    text = json.dumps(obj, sort_keys=True, indent=4)\n",
    "    print(text)"
   ]
  },
  {
   "cell_type": "markdown",
   "metadata": {},
   "source": [
    "----"
   ]
  },
  {
   "cell_type": "markdown",
   "metadata": {},
   "source": [
    "**Pull Economic Data from APIs: World Bank, Systemic Peace Project (Polity IV), World Wide Governance Indicators** <br>\n",
    "*Bloomberg API for Python?*"
   ]
  },
  {
   "cell_type": "code",
   "execution_count": 4,
   "metadata": {},
   "outputs": [],
   "source": [
    "# Configure World Bank\n",
    "\n",
    "import config_world_bank\n",
    "\n",
    "#print(config_world_bank)\n",
    "\n",
    "#api_key_wb = config_world_bank.api_key #API key no longer required\n",
    "user_agent = 'Jake_Schneider'"
   ]
  },
  {
   "cell_type": "code",
   "execution_count": 34,
   "metadata": {},
   "outputs": [
    {
     "ename": "TypeError",
     "evalue": "myMethod() takes 0 positional arguments but 1 was given",
     "output_type": "error",
     "traceback": [
      "\u001b[0;31m---------------------------------------------------------------------------\u001b[0m",
      "\u001b[0;31mTypeError\u001b[0m                                 Traceback (most recent call last)",
      "\u001b[0;32m<ipython-input-34-94a5eb43cb56>\u001b[0m in \u001b[0;36m<module>\u001b[0;34m\u001b[0m\n\u001b[1;32m      2\u001b[0m \u001b[0;34m\u001b[0m\u001b[0m\n\u001b[1;32m      3\u001b[0m \u001b[0mtest\u001b[0m \u001b[0;34m=\u001b[0m \u001b[0mrequests\u001b[0m\u001b[0;34m.\u001b[0m\u001b[0mget\u001b[0m\u001b[0;34m(\u001b[0m\u001b[0;34m'http://api.worldbank.org/v2/country/all/indicator/SP.POP.TOTL?date=2000:2001&format=json'\u001b[0m\u001b[0;34m)\u001b[0m\u001b[0;34m\u001b[0m\u001b[0;34m\u001b[0m\u001b[0m\n\u001b[0;32m----> 4\u001b[0;31m \u001b[0mtest\u001b[0m \u001b[0;34m=\u001b[0m \u001b[0mmyMethod\u001b[0m\u001b[0;34m(\u001b[0m\u001b[0mtest\u001b[0m\u001b[0;34m)\u001b[0m\u001b[0;34m\u001b[0m\u001b[0;34m\u001b[0m\u001b[0m\n\u001b[0m\u001b[1;32m      5\u001b[0m \u001b[0mjprint\u001b[0m\u001b[0;34m(\u001b[0m\u001b[0mtest\u001b[0m\u001b[0;34m)\u001b[0m\u001b[0;34m\u001b[0m\u001b[0;34m\u001b[0m\u001b[0m\n",
      "\u001b[0;31mTypeError\u001b[0m: myMethod() takes 0 positional arguments but 1 was given"
     ]
    }
   ],
   "source": [
    "#Test\n",
    "\n",
    "test = requests.get('http://api.worldbank.org/v2/country/all/indicator/SP.POP.TOTL?date=2000:2001&format=json')\n",
    "jprint(test)"
   ]
  },
  {
   "cell_type": "code",
   "execution_count": 23,
   "metadata": {},
   "outputs": [],
   "source": [
    "# Create Function For Pulling Economic Data from World Bank\n",
    "\n",
    "def parse_wb(country, series, start_date = '1970', end_date = '2020'):\n",
    "    values = requests.get('http://api.worldbank.org/v2/country/{}/indicator/{}?date={}:{}&format=json'.format(country, series, start_date, end_date))\n",
    "    length = len(values.json())\n",
    "    #print(length)\n",
    "    jprint(values.json()) #[\"observations\"][length-1])\n",
    "    return values.json() #[\"observations\"][length-1]"
   ]
  },
  {
   "cell_type": "code",
   "execution_count": 24,
   "metadata": {},
   "outputs": [
    {
     "name": "stdout",
     "output_type": "stream",
     "text": [
      "{\n",
      "    \"fault\": {\n",
      "        \"detail\": {\n",
      "            \"errorcode\": \"steps.script.ScriptEvaluationFailed\"\n",
      "        },\n",
      "        \"faultstring\": \"Evaluation of script AssignQueryParamsCaseInsensitively.py (py) failed with reason: \\\"TypeError: cannot concatenate 'unicode' and 'NoneType' objects\\\"\"\n",
      "    }\n",
      "}\n"
     ]
    }
   ],
   "source": [
    "# Run Function 'Parse_wb'\n",
    "# 'GDPCA' = Real Gross Domestic Product (Chained 2012)\n",
    "# 'A191RL1A225NBEA' = Real Gross Domestic Product (% Change from Proceeding Period)\n",
    "# 'NYGDPPCAPKDUSA' = Constant GDP per capita for the United States (Chained 2010)\n",
    "# 'GPDICA' = Real Gross Private Domestic Investment (Chained 2012)\n",
    "\n",
    "wb_indicators = ['SP.POP.TOTL']\n",
    "\n",
    "wb_master_data = []\n",
    "for indicator in wb_indicators:\n",
    "    wb_data = parse(country = 'chn', series = indicator)\n",
    "    wb_master_data.append(wb_data)"
   ]
  },
  {
   "cell_type": "code",
   "execution_count": null,
   "metadata": {},
   "outputs": [],
   "source": []
  }
 ],
 "metadata": {
  "kernelspec": {
   "display_name": "Python 3",
   "language": "python",
   "name": "python3"
  },
  "language_info": {
   "codemirror_mode": {
    "name": "ipython",
    "version": 3
   },
   "file_extension": ".py",
   "mimetype": "text/x-python",
   "name": "python",
   "nbconvert_exporter": "python",
   "pygments_lexer": "ipython3",
   "version": "3.7.4"
  }
 },
 "nbformat": 4,
 "nbformat_minor": 4
}
