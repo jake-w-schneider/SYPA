{
 "cells": [
  {
   "cell_type": "markdown",
   "metadata": {},
   "source": [
    "**SYPA: Fundamental Analysis of Foreign Direct Investment** <br>\n",
    "*2_Load_Merge_Transform* <br>\n",
    "Harvard SYPA <br>\n",
    "User: Jake Schneider <br>\n",
    "Date Created: February 8, 2020 <br>\n",
    "Date Updated: February 8, 2020"
   ]
  },
  {
   "cell_type": "markdown",
   "metadata": {},
   "source": [
    "----"
   ]
  },
  {
   "cell_type": "markdown",
   "metadata": {},
   "source": [
    "**Load Culled Data Sets: Doing Business, WGI, Debt, CPIA, Bureaucracy, ESG** <br>\n",
    "Culled from 1_API"
   ]
  },
  {
   "cell_type": "markdown",
   "metadata": {},
   "source": [
    "----"
   ]
  },
  {
   "cell_type": "markdown",
   "metadata": {},
   "source": [
    "**Load WDI Data** <br>\n",
    "Downloaded from World Bank Website <br>\n",
    "*Note: Will need to be cleaned and transformed*"
   ]
  },
  {
   "cell_type": "markdown",
   "metadata": {},
   "source": [
    "---"
   ]
  },
  {
   "cell_type": "markdown",
   "metadata": {},
   "source": [
    "**Merge Data Sets**"
   ]
  },
  {
   "cell_type": "code",
   "execution_count": null,
   "metadata": {},
   "outputs": [],
   "source": []
  }
 ],
 "metadata": {
  "kernelspec": {
   "display_name": "R",
   "language": "R",
   "name": "ir"
  },
  "language_info": {
   "codemirror_mode": "r",
   "file_extension": ".r",
   "mimetype": "text/x-r-source",
   "name": "R",
   "pygments_lexer": "r",
   "version": "3.5.1"
  }
 },
 "nbformat": 4,
 "nbformat_minor": 4
}
